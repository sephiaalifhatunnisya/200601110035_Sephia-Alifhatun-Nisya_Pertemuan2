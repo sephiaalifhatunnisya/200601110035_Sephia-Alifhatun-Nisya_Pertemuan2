{
 "cells": [
  {
   "cell_type": "markdown",
   "id": "29c25435",
   "metadata": {},
   "source": [
    "Pandas merupakan salah satu package yang sangat membantu kita dalam pengolahan data dengan bahasa python. Hal ini karena pandas menyediakan fitur dataframe. Dengan dataframe, kita bisa menjadikan file terbaca menjadi sebuah tabel. File yang didukung seperti .txt, .csv, .tsv dan lainnya."
   ]
  },
  {
   "cell_type": "markdown",
   "id": "bc42f113",
   "metadata": {},
   "source": [
    "## Mengimpor Pandas "
   ]
  },
  {
   "cell_type": "code",
   "execution_count": 31,
   "id": "17f9c1ad",
   "metadata": {},
   "outputs": [],
   "source": [
    "import pandas as pd"
   ]
  },
  {
   "cell_type": "markdown",
   "id": "8df3204a",
   "metadata": {},
   "source": [
    "## Import .txt "
   ]
  },
  {
   "cell_type": "code",
   "execution_count": 32,
   "id": "47075e17",
   "metadata": {},
   "outputs": [
    {
     "name": "stdout",
     "output_type": "stream",
     "text": [
      "   A\\tB\n",
      "0  1\\t4\n",
      "1  3\\t5\n",
      "2  4\\t2\n"
     ]
    }
   ],
   "source": [
    "file1=pd.read_csv(\"file.txt\")\n",
    "print(file1)"
   ]
  },
  {
   "cell_type": "code",
   "execution_count": 33,
   "id": "410d8454",
   "metadata": {},
   "outputs": [
    {
     "name": "stdout",
     "output_type": "stream",
     "text": [
      "   A  B\n",
      "0  1  4\n",
      "1  3  5\n",
      "2  4  2\n"
     ]
    }
   ],
   "source": [
    "file2=pd.read_csv(\"file.txt\", delimiter=\"\\t\")\n",
    "print(file2)"
   ]
  },
  {
   "cell_type": "code",
   "execution_count": 34,
   "id": "f5e574d4",
   "metadata": {},
   "outputs": [
    {
     "name": "stdout",
     "output_type": "stream",
     "text": [
      "      A\\tB\n",
      "0     1\\t2\n",
      "1     4\\t7\n",
      "2     5\\t1\n",
      "3     6\\t3\n",
      "4     3\\t5\n",
      "5     9\\t4\n",
      "6     2\\t7\n",
      "7     3\\t6\n",
      "8     5\\t9\n",
      "9     4\\t8\n",
      "10    2\\t5\n",
      "11  4\\t5\\t\n"
     ]
    }
   ],
   "source": [
    "file3=pd.read_csv(\"file1.txt\")\n",
    "print(file3)"
   ]
  },
  {
   "cell_type": "code",
   "execution_count": 35,
   "id": "1c2eedd4",
   "metadata": {},
   "outputs": [
    {
     "name": "stdout",
     "output_type": "stream",
     "text": [
      "    A  B\n",
      "0   1  2\n",
      "1   4  7\n",
      "2   5  1\n",
      "3   6  3\n",
      "4   3  5\n",
      "5   9  4\n",
      "6   2  7\n",
      "7   3  6\n",
      "8   5  9\n",
      "9   4  8\n",
      "10  2  5\n",
      "11  4  5\n"
     ]
    }
   ],
   "source": [
    "file4=pd.read_csv(\"file1.txt\", delimiter=\"\\s+\")\n",
    "print(file4)"
   ]
  },
  {
   "cell_type": "markdown",
   "id": "3f6bb52f",
   "metadata": {},
   "source": [
    "## Import .csv "
   ]
  },
  {
   "cell_type": "code",
   "execution_count": 36,
   "id": "4f9678e0",
   "metadata": {},
   "outputs": [
    {
     "name": "stdout",
     "output_type": "stream",
     "text": [
      "   A  B\n",
      "0  1  4\n",
      "1  3  5\n",
      "2  4  2\n"
     ]
    }
   ],
   "source": [
    "file5=pd.read_csv(\"file.csv\")\n",
    "print(file5)"
   ]
  },
  {
   "cell_type": "markdown",
   "id": "8ed69251",
   "metadata": {},
   "source": [
    "## Import .xlsx "
   ]
  },
  {
   "cell_type": "code",
   "execution_count": 37,
   "id": "7969e365",
   "metadata": {},
   "outputs": [
    {
     "name": "stdout",
     "output_type": "stream",
     "text": [
      "   A  B\n",
      "0  1  4\n",
      "1  3  5\n",
      "2  4  2\n"
     ]
    }
   ],
   "source": [
    "file6=pd.read_excel('file.xlsx')\n",
    "print(file6)"
   ]
  },
  {
   "cell_type": "markdown",
   "id": "8e0aab61",
   "metadata": {},
   "source": [
    "## Import .xls "
   ]
  },
  {
   "cell_type": "code",
   "execution_count": 38,
   "id": "12d40f6e",
   "metadata": {},
   "outputs": [
    {
     "name": "stdout",
     "output_type": "stream",
     "text": [
      "   A  B\n",
      "0  1  4\n",
      "1  3  5\n",
      "2  4  2\n"
     ]
    }
   ],
   "source": [
    "file7=pd.read_excel('file.xls')\n",
    "print(file7)"
   ]
  },
  {
   "cell_type": "markdown",
   "id": "b1cf3d8a",
   "metadata": {},
   "source": [
    "## Melihat Tabel  "
   ]
  },
  {
   "cell_type": "code",
   "execution_count": 39,
   "id": "198bd4eb",
   "metadata": {},
   "outputs": [
    {
     "data": {
      "text/html": [
       "<div>\n",
       "<style scoped>\n",
       "    .dataframe tbody tr th:only-of-type {\n",
       "        vertical-align: middle;\n",
       "    }\n",
       "\n",
       "    .dataframe tbody tr th {\n",
       "        vertical-align: top;\n",
       "    }\n",
       "\n",
       "    .dataframe thead th {\n",
       "        text-align: right;\n",
       "    }\n",
       "</style>\n",
       "<table border=\"1\" class=\"dataframe\">\n",
       "  <thead>\n",
       "    <tr style=\"text-align: right;\">\n",
       "      <th></th>\n",
       "      <th>A</th>\n",
       "      <th>B</th>\n",
       "    </tr>\n",
       "  </thead>\n",
       "  <tbody>\n",
       "    <tr>\n",
       "      <th>0</th>\n",
       "      <td>1</td>\n",
       "      <td>4</td>\n",
       "    </tr>\n",
       "    <tr>\n",
       "      <th>1</th>\n",
       "      <td>3</td>\n",
       "      <td>5</td>\n",
       "    </tr>\n",
       "    <tr>\n",
       "      <th>2</th>\n",
       "      <td>4</td>\n",
       "      <td>2</td>\n",
       "    </tr>\n",
       "  </tbody>\n",
       "</table>\n",
       "</div>"
      ],
      "text/plain": [
       "   A  B\n",
       "0  1  4\n",
       "1  3  5\n",
       "2  4  2"
      ]
     },
     "execution_count": 39,
     "metadata": {},
     "output_type": "execute_result"
    }
   ],
   "source": [
    "#semua\n",
    "file2"
   ]
  },
  {
   "cell_type": "code",
   "execution_count": 40,
   "id": "74c4d203",
   "metadata": {},
   "outputs": [
    {
     "data": {
      "text/html": [
       "<div>\n",
       "<style scoped>\n",
       "    .dataframe tbody tr th:only-of-type {\n",
       "        vertical-align: middle;\n",
       "    }\n",
       "\n",
       "    .dataframe tbody tr th {\n",
       "        vertical-align: top;\n",
       "    }\n",
       "\n",
       "    .dataframe thead th {\n",
       "        text-align: right;\n",
       "    }\n",
       "</style>\n",
       "<table border=\"1\" class=\"dataframe\">\n",
       "  <thead>\n",
       "    <tr style=\"text-align: right;\">\n",
       "      <th></th>\n",
       "      <th>A</th>\n",
       "      <th>B</th>\n",
       "    </tr>\n",
       "  </thead>\n",
       "  <tbody>\n",
       "    <tr>\n",
       "      <th>0</th>\n",
       "      <td>1</td>\n",
       "      <td>2</td>\n",
       "    </tr>\n",
       "    <tr>\n",
       "      <th>1</th>\n",
       "      <td>4</td>\n",
       "      <td>7</td>\n",
       "    </tr>\n",
       "    <tr>\n",
       "      <th>2</th>\n",
       "      <td>5</td>\n",
       "      <td>1</td>\n",
       "    </tr>\n",
       "    <tr>\n",
       "      <th>3</th>\n",
       "      <td>6</td>\n",
       "      <td>3</td>\n",
       "    </tr>\n",
       "    <tr>\n",
       "      <th>4</th>\n",
       "      <td>3</td>\n",
       "      <td>5</td>\n",
       "    </tr>\n",
       "    <tr>\n",
       "      <th>5</th>\n",
       "      <td>9</td>\n",
       "      <td>4</td>\n",
       "    </tr>\n",
       "    <tr>\n",
       "      <th>6</th>\n",
       "      <td>2</td>\n",
       "      <td>7</td>\n",
       "    </tr>\n",
       "    <tr>\n",
       "      <th>7</th>\n",
       "      <td>3</td>\n",
       "      <td>6</td>\n",
       "    </tr>\n",
       "    <tr>\n",
       "      <th>8</th>\n",
       "      <td>5</td>\n",
       "      <td>9</td>\n",
       "    </tr>\n",
       "    <tr>\n",
       "      <th>9</th>\n",
       "      <td>4</td>\n",
       "      <td>8</td>\n",
       "    </tr>\n",
       "    <tr>\n",
       "      <th>10</th>\n",
       "      <td>2</td>\n",
       "      <td>5</td>\n",
       "    </tr>\n",
       "    <tr>\n",
       "      <th>11</th>\n",
       "      <td>4</td>\n",
       "      <td>5</td>\n",
       "    </tr>\n",
       "  </tbody>\n",
       "</table>\n",
       "</div>"
      ],
      "text/plain": [
       "    A  B\n",
       "0   1  2\n",
       "1   4  7\n",
       "2   5  1\n",
       "3   6  3\n",
       "4   3  5\n",
       "5   9  4\n",
       "6   2  7\n",
       "7   3  6\n",
       "8   5  9\n",
       "9   4  8\n",
       "10  2  5\n",
       "11  4  5"
      ]
     },
     "execution_count": 40,
     "metadata": {},
     "output_type": "execute_result"
    }
   ],
   "source": [
    "#semua\n",
    "file4"
   ]
  },
  {
   "cell_type": "code",
   "execution_count": 41,
   "id": "c5b20e16",
   "metadata": {},
   "outputs": [
    {
     "data": {
      "text/html": [
       "<div>\n",
       "<style scoped>\n",
       "    .dataframe tbody tr th:only-of-type {\n",
       "        vertical-align: middle;\n",
       "    }\n",
       "\n",
       "    .dataframe tbody tr th {\n",
       "        vertical-align: top;\n",
       "    }\n",
       "\n",
       "    .dataframe thead th {\n",
       "        text-align: right;\n",
       "    }\n",
       "</style>\n",
       "<table border=\"1\" class=\"dataframe\">\n",
       "  <thead>\n",
       "    <tr style=\"text-align: right;\">\n",
       "      <th></th>\n",
       "      <th>A</th>\n",
       "      <th>B</th>\n",
       "    </tr>\n",
       "  </thead>\n",
       "  <tbody>\n",
       "    <tr>\n",
       "      <th>0</th>\n",
       "      <td>1</td>\n",
       "      <td>4</td>\n",
       "    </tr>\n",
       "    <tr>\n",
       "      <th>1</th>\n",
       "      <td>3</td>\n",
       "      <td>5</td>\n",
       "    </tr>\n",
       "    <tr>\n",
       "      <th>2</th>\n",
       "      <td>4</td>\n",
       "      <td>2</td>\n",
       "    </tr>\n",
       "  </tbody>\n",
       "</table>\n",
       "</div>"
      ],
      "text/plain": [
       "   A  B\n",
       "0  1  4\n",
       "1  3  5\n",
       "2  4  2"
      ]
     },
     "execution_count": 41,
     "metadata": {},
     "output_type": "execute_result"
    }
   ],
   "source": [
    "#sebagian yang di atas\n",
    "file2.head()"
   ]
  },
  {
   "cell_type": "code",
   "execution_count": 42,
   "id": "9ab10109",
   "metadata": {},
   "outputs": [
    {
     "data": {
      "text/html": [
       "<div>\n",
       "<style scoped>\n",
       "    .dataframe tbody tr th:only-of-type {\n",
       "        vertical-align: middle;\n",
       "    }\n",
       "\n",
       "    .dataframe tbody tr th {\n",
       "        vertical-align: top;\n",
       "    }\n",
       "\n",
       "    .dataframe thead th {\n",
       "        text-align: right;\n",
       "    }\n",
       "</style>\n",
       "<table border=\"1\" class=\"dataframe\">\n",
       "  <thead>\n",
       "    <tr style=\"text-align: right;\">\n",
       "      <th></th>\n",
       "      <th>A</th>\n",
       "      <th>B</th>\n",
       "    </tr>\n",
       "  </thead>\n",
       "  <tbody>\n",
       "    <tr>\n",
       "      <th>0</th>\n",
       "      <td>1</td>\n",
       "      <td>2</td>\n",
       "    </tr>\n",
       "    <tr>\n",
       "      <th>1</th>\n",
       "      <td>4</td>\n",
       "      <td>7</td>\n",
       "    </tr>\n",
       "    <tr>\n",
       "      <th>2</th>\n",
       "      <td>5</td>\n",
       "      <td>1</td>\n",
       "    </tr>\n",
       "    <tr>\n",
       "      <th>3</th>\n",
       "      <td>6</td>\n",
       "      <td>3</td>\n",
       "    </tr>\n",
       "    <tr>\n",
       "      <th>4</th>\n",
       "      <td>3</td>\n",
       "      <td>5</td>\n",
       "    </tr>\n",
       "  </tbody>\n",
       "</table>\n",
       "</div>"
      ],
      "text/plain": [
       "   A  B\n",
       "0  1  2\n",
       "1  4  7\n",
       "2  5  1\n",
       "3  6  3\n",
       "4  3  5"
      ]
     },
     "execution_count": 42,
     "metadata": {},
     "output_type": "execute_result"
    }
   ],
   "source": [
    "#sebagian yang di atas\n",
    "file4.head()"
   ]
  },
  {
   "cell_type": "markdown",
   "id": "2834ea44",
   "metadata": {},
   "source": [
    "## Membuat Dataframe Sendiri "
   ]
  },
  {
   "cell_type": "code",
   "execution_count": 43,
   "id": "57ee6202",
   "metadata": {},
   "outputs": [
    {
     "name": "stdout",
     "output_type": "stream",
     "text": [
      "Empty DataFrame\n",
      "Columns: []\n",
      "Index: []\n"
     ]
    }
   ],
   "source": [
    "df = pd.DataFrame()\n",
    "print(df)"
   ]
  },
  {
   "cell_type": "code",
   "execution_count": 44,
   "id": "e4bb057e",
   "metadata": {},
   "outputs": [
    {
     "name": "stdout",
     "output_type": "stream",
     "text": [
      "   0\n",
      "0  5\n",
      "1  3\n",
      "2  7\n",
      "3  2\n",
      "4  4\n",
      "5  9\n",
      "6  1\n"
     ]
    }
   ],
   "source": [
    "data = [5,3,7,2,4,9,1]\n",
    "df1 = pd.DataFrame(data)\n",
    "print(df1)"
   ]
  },
  {
   "cell_type": "code",
   "execution_count": 45,
   "id": "d31933e1",
   "metadata": {},
   "outputs": [
    {
     "name": "stdout",
     "output_type": "stream",
     "text": [
      "     Nama  Usia\n",
      "0   Silva    19\n",
      "1  Annisa    21\n",
      "2  Hijria    20\n"
     ]
    }
   ],
   "source": [
    "data = [['Silva',19],['Annisa',21],['Hijria',20]]\n",
    "df2 = pd.DataFrame(data,columns=['Nama','Usia'])\n",
    "print(df2)"
   ]
  },
  {
   "cell_type": "code",
   "execution_count": null,
   "id": "2faa20b4",
   "metadata": {},
   "outputs": [],
   "source": []
  }
 ],
 "metadata": {
  "kernelspec": {
   "display_name": "Python 3 (ipykernel)",
   "language": "python",
   "name": "python3"
  },
  "language_info": {
   "codemirror_mode": {
    "name": "ipython",
    "version": 3
   },
   "file_extension": ".py",
   "mimetype": "text/x-python",
   "name": "python",
   "nbconvert_exporter": "python",
   "pygments_lexer": "ipython3",
   "version": "3.10.2"
  }
 },
 "nbformat": 4,
 "nbformat_minor": 5
}
